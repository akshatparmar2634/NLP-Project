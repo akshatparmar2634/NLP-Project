{
 "cells": [
  {
   "cell_type": "code",
   "execution_count": 3,
   "id": "4ff63b5c",
   "metadata": {},
   "outputs": [],
   "source": [
    "import json\n",
    "from typing import List, Dict"
   ]
  },
  {
   "cell_type": "code",
   "execution_count": 4,
   "id": "b23b1c73",
   "metadata": {},
   "outputs": [
    {
     "name": "stdout",
     "output_type": "stream",
     "text": [
      "Preprocessed context saved to data/preprocessed_context.json\n"
     ]
    }
   ],
   "source": [
    "import json\n",
    "from collections import defaultdict\n",
    "from typing import List, Dict\n",
    "\n",
    "def preprocess_data_for_context(data: List[Dict]) -> Dict[int, Dict[str, List[Dict]]]:\n",
    "    \"\"\"\n",
    "    Preprocess the dataset to group data by game and generate context for each country.\n",
    "\n",
    "    Args:\n",
    "        data (List[Dict]): List of JSON objects representing conversations between player pairs.\n",
    "\n",
    "    Returns:\n",
    "        Dict[int, Dict[str, List[Dict]]]: A nested dictionary where:\n",
    "            - Keys are game IDs.\n",
    "            - Values are dictionaries mapping each country to its ordered contextual data.\n",
    "    \"\"\"\n",
    "    games_context = defaultdict(lambda: defaultdict(list))\n",
    "\n",
    "    # Group conversations by game and country\n",
    "    for conversation in data:\n",
    "        game_id = conversation[\"game_id\"]\n",
    "        players = conversation[\"players\"]  # List of the two players in the conversation\n",
    "        messages = conversation[\"messages\"]\n",
    "        absolute_indices = conversation[\"absolute_message_index\"]\n",
    "        seasons = conversation[\"seasons\"]\n",
    "        years = conversation[\"years\"]\n",
    "        speakers = conversation[\"speakers\"]\n",
    "        receivers = conversation[\"receivers\"]\n",
    "        sender_labels = conversation[\"sender_labels\"]\n",
    "        receiver_labels = conversation[\"receiver_labels\"]\n",
    "        game_score = conversation[\"game_score\"]\n",
    "        game_score_delta = conversation[\"game_score_delta\"]\n",
    "\n",
    "        # For each message, add context to both the speaker's and receiver's country contexts\n",
    "        for i in range(len(messages)):\n",
    "            entry = {\n",
    "                \"message\": messages[i],\n",
    "                \"absolute_message_index\": absolute_indices[i],\n",
    "                \"relative_message_index\": i,\n",
    "                \"season\": seasons[i],\n",
    "                \"year\": years[i],\n",
    "                \"speaker\": speakers[i],\n",
    "                \"receiver\": receivers[i],\n",
    "                \"sender_label\": sender_labels[i],\n",
    "                \"receiver_label\": receiver_labels[i],\n",
    "                \"game_score\": game_score[i],\n",
    "                \"game_score_delta\": game_score_delta[i],\n",
    "            }\n",
    "\n",
    "            # Add to the speaker's and receiver's context in this game\n",
    "            games_context[game_id][speakers[i]].append(entry)\n",
    "            games_context[game_id][receivers[i]].append(entry)\n",
    "\n",
    "    # Sort messages for each country in each game by absolute message index\n",
    "    for game_id, country_data in games_context.items():\n",
    "        for country, messages in country_data.items():\n",
    "            country_data[country] = sorted(messages, key=lambda x: x[\"absolute_message_index\"])\n",
    "\n",
    "    return games_context\n",
    "\n",
    "def save_to_json(data: Dict, filename: str):\n",
    "    \"\"\"\n",
    "    Save preprocessed data to a JSON file.\n",
    "\n",
    "    Args:\n",
    "        data (Dict): Preprocessed dataset with contextual features.\n",
    "        filename (str): Name of the output JSON file.\n",
    "    \"\"\"\n",
    "    with open(filename, \"w\") as f:\n",
    "        json.dump(data, f, indent=4)\n",
    "\n",
    "\n",
    "# Load your dataset (JSON Lines format)\n",
    "with open(\"data/train.jsonl\", \"r\") as f:\n",
    "    raw_data = [json.loads(line) for line in f]\n",
    "\n",
    "# Preprocess the dataset to generate context\n",
    "preprocessed_context = preprocess_data_for_context(raw_data)\n",
    "\n",
    "# Save the preprocessed data to a JSON file\n",
    "output_filename = \"data/preprocessed_context.json\"\n",
    "save_to_json(preprocessed_context, output_filename)\n",
    "\n",
    "print(f\"Preprocessed context saved to {output_filename}\")\n",
    "\n"
   ]
  }
 ],
 "metadata": {
  "kernelspec": {
   "display_name": "cuda_env",
   "language": "python",
   "name": "python3"
  },
  "language_info": {
   "codemirror_mode": {
    "name": "ipython",
    "version": 3
   },
   "file_extension": ".py",
   "mimetype": "text/x-python",
   "name": "python",
   "nbconvert_exporter": "python",
   "pygments_lexer": "ipython3",
   "version": "3.12.8"
  }
 },
 "nbformat": 4,
 "nbformat_minor": 5
}
