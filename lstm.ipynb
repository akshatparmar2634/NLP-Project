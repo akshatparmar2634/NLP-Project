{
 "cells": [
  {
   "cell_type": "code",
   "execution_count": 1,
   "metadata": {},
   "outputs": [],
   "source": [
    "import numpy as np\n",
    "import pandas as pd\n",
    "import json\n",
    "from random import shuffle, sample\n",
    "import os\n",
    "\n",
    "import numpy as np\n",
    "from tensorflow.keras.models import Sequential\n",
    "from tensorflow.keras.layers import Embedding, LSTM, Dense, Dropout\n",
    "from tensorflow.keras.preprocessing.text import Tokenizer\n",
    "from tensorflow.keras.preprocessing.sequence import pad_sequences\n",
    "from sklearn.metrics import accuracy_score, classification_report\n",
    "from sklearn.metrics import accuracy_score, classification_report"
   ]
  },
  {
   "cell_type": "code",
   "execution_count": 2,
   "metadata": {},
   "outputs": [],
   "source": [
    "# Load the JSONL data\n",
    "def load_data(file_path):\n",
    "    data = []\n",
    "    with open(file_path, 'r', encoding='utf-8') as f:\n",
    "        for line in f:\n",
    "            data.append(json.loads(line))\n",
    "    return pd.DataFrame(data)\n",
    "\n",
    "# Preprocess the data\n",
    "def preprocess_data(df):\n",
    "    df['label'] = df['score_delta'].apply(lambda x: 1 if x < 0 else 0) \n",
    "    return df"
   ]
  },
  {
   "cell_type": "code",
   "execution_count": 3,
   "metadata": {},
   "outputs": [
    {
     "name": "stdout",
     "output_type": "stream",
     "text": [
      "                                             message receiver_annotation  \\\n",
      "0  I see! Do you see an issue with me taking denm...                True   \n",
      "1                                   Okay let me know                True   \n",
      "2  Rgr.  Stand ready to support whatever you decide.                True   \n",
      "3       Sidebar- what’re you gonna do about england?        NOANNOTATION   \n",
      "4  Yea I’m here. I’m with you on that. Not cuttin...                True   \n",
      "\n",
      "   sender_annotation  score_delta  label  \n",
      "0               True            0      0  \n",
      "1               True           -1      1  \n",
      "2               True           -2      1  \n",
      "3               True           -3      1  \n",
      "4               True           -2      1  \n"
     ]
    }
   ],
   "source": [
    "train_data = preprocess_data(load_data(\"data/train_sm.jsonl\"))\n",
    "test_data = preprocess_data(load_data(\"data/test_sm.jsonl\"))\n",
    "validation_data = preprocess_data(load_data(\"data/validation_sm.jsonl\"))\n",
    "\n",
    "print(train_data.head())"
   ]
  },
  {
   "cell_type": "code",
   "execution_count": 4,
   "metadata": {},
   "outputs": [
    {
     "name": "stdout",
     "output_type": "stream",
     "text": [
      "Epoch 1/10\n"
     ]
    },
    {
     "name": "stderr",
     "output_type": "stream",
     "text": [
      "c:\\Users\\Akshat\\anaconda3\\envs\\cuda_env\\Lib\\site-packages\\keras\\src\\layers\\core\\embedding.py:90: UserWarning: Argument `input_length` is deprecated. Just remove it.\n",
      "  warnings.warn(\n"
     ]
    },
    {
     "name": "stdout",
     "output_type": "stream",
     "text": [
      "\u001b[1m411/411\u001b[0m \u001b[32m━━━━━━━━━━━━━━━━━━━━\u001b[0m\u001b[37m\u001b[0m \u001b[1m14s\u001b[0m 30ms/step - accuracy: 0.6701 - loss: 0.6399 - val_accuracy: 0.7218 - val_loss: 0.5968\n",
      "Epoch 2/10\n",
      "\u001b[1m411/411\u001b[0m \u001b[32m━━━━━━━━━━━━━━━━━━━━\u001b[0m\u001b[37m\u001b[0m \u001b[1m12s\u001b[0m 29ms/step - accuracy: 0.6826 - loss: 0.6298 - val_accuracy: 0.7218 - val_loss: 0.6081\n",
      "Epoch 3/10\n",
      "\u001b[1m411/411\u001b[0m \u001b[32m━━━━━━━━━━━━━━━━━━━━\u001b[0m\u001b[37m\u001b[0m \u001b[1m12s\u001b[0m 29ms/step - accuracy: 0.6822 - loss: 0.6291 - val_accuracy: 0.7218 - val_loss: 0.5967\n",
      "Epoch 4/10\n",
      "\u001b[1m411/411\u001b[0m \u001b[32m━━━━━━━━━━━━━━━━━━━━\u001b[0m\u001b[37m\u001b[0m \u001b[1m12s\u001b[0m 29ms/step - accuracy: 0.6781 - loss: 0.6316 - val_accuracy: 0.7218 - val_loss: 0.5976\n",
      "Epoch 5/10\n",
      "\u001b[1m411/411\u001b[0m \u001b[32m━━━━━━━━━━━━━━━━━━━━\u001b[0m\u001b[37m\u001b[0m \u001b[1m12s\u001b[0m 30ms/step - accuracy: 0.6774 - loss: 0.6306 - val_accuracy: 0.7218 - val_loss: 0.6004\n",
      "Epoch 6/10\n",
      "\u001b[1m411/411\u001b[0m \u001b[32m━━━━━━━━━━━━━━━━━━━━\u001b[0m\u001b[37m\u001b[0m \u001b[1m12s\u001b[0m 29ms/step - accuracy: 0.6825 - loss: 0.6274 - val_accuracy: 0.7218 - val_loss: 0.5987\n",
      "Epoch 7/10\n",
      "\u001b[1m411/411\u001b[0m \u001b[32m━━━━━━━━━━━━━━━━━━━━\u001b[0m\u001b[37m\u001b[0m \u001b[1m12s\u001b[0m 29ms/step - accuracy: 0.6830 - loss: 0.6280 - val_accuracy: 0.7218 - val_loss: 0.5980\n",
      "Epoch 8/10\n",
      "\u001b[1m411/411\u001b[0m \u001b[32m━━━━━━━━━━━━━━━━━━━━\u001b[0m\u001b[37m\u001b[0m \u001b[1m12s\u001b[0m 29ms/step - accuracy: 0.6755 - loss: 0.6318 - val_accuracy: 0.7218 - val_loss: 0.5937\n",
      "Epoch 9/10\n",
      "\u001b[1m411/411\u001b[0m \u001b[32m━━━━━━━━━━━━━━━━━━━━\u001b[0m\u001b[37m\u001b[0m \u001b[1m12s\u001b[0m 30ms/step - accuracy: 0.6871 - loss: 0.6212 - val_accuracy: 0.7218 - val_loss: 0.5922\n",
      "Epoch 10/10\n",
      "\u001b[1m411/411\u001b[0m \u001b[32m━━━━━━━━━━━━━━━━━━━━\u001b[0m\u001b[37m\u001b[0m \u001b[1m12s\u001b[0m 29ms/step - accuracy: 0.6882 - loss: 0.6222 - val_accuracy: 0.7218 - val_loss: 0.5954\n",
      "\u001b[1m86/86\u001b[0m \u001b[32m━━━━━━━━━━━━━━━━━━━━\u001b[0m\u001b[37m\u001b[0m \u001b[1m1s\u001b[0m 11ms/step\n",
      "Test Accuracy: 0.6935425027362276\n",
      "Test Classification Report:\n",
      "               precision    recall  f1-score   support\n",
      "\n",
      "           0       0.69      1.00      0.82      1901\n",
      "           1       0.00      0.00      0.00       840\n",
      "\n",
      "    accuracy                           0.69      2741\n",
      "   macro avg       0.35      0.50      0.41      2741\n",
      "weighted avg       0.48      0.69      0.57      2741\n",
      "\n",
      "\u001b[1m11/45\u001b[0m \u001b[32m━━━━\u001b[0m\u001b[37m━━━━━━━━━━━━━━━━\u001b[0m \u001b[1m0s\u001b[0m 11ms/step"
     ]
    },
    {
     "name": "stderr",
     "output_type": "stream",
     "text": [
      "c:\\Users\\Akshat\\anaconda3\\envs\\cuda_env\\Lib\\site-packages\\sklearn\\metrics\\_classification.py:1565: UndefinedMetricWarning: Precision is ill-defined and being set to 0.0 in labels with no predicted samples. Use `zero_division` parameter to control this behavior.\n",
      "  _warn_prf(average, modifier, f\"{metric.capitalize()} is\", len(result))\n",
      "c:\\Users\\Akshat\\anaconda3\\envs\\cuda_env\\Lib\\site-packages\\sklearn\\metrics\\_classification.py:1565: UndefinedMetricWarning: Precision is ill-defined and being set to 0.0 in labels with no predicted samples. Use `zero_division` parameter to control this behavior.\n",
      "  _warn_prf(average, modifier, f\"{metric.capitalize()} is\", len(result))\n",
      "c:\\Users\\Akshat\\anaconda3\\envs\\cuda_env\\Lib\\site-packages\\sklearn\\metrics\\_classification.py:1565: UndefinedMetricWarning: Precision is ill-defined and being set to 0.0 in labels with no predicted samples. Use `zero_division` parameter to control this behavior.\n",
      "  _warn_prf(average, modifier, f\"{metric.capitalize()} is\", len(result))\n"
     ]
    },
    {
     "name": "stdout",
     "output_type": "stream",
     "text": [
      "\u001b[1m45/45\u001b[0m \u001b[32m━━━━━━━━━━━━━━━━━━━━\u001b[0m\u001b[37m\u001b[0m \u001b[1m0s\u001b[0m 11ms/step\n",
      "Validation Accuracy: 0.7217514124293786\n",
      "Validation Classification Report:\n",
      "               precision    recall  f1-score   support\n",
      "\n",
      "           0       0.72      1.00      0.84      1022\n",
      "           1       0.00      0.00      0.00       394\n",
      "\n",
      "    accuracy                           0.72      1416\n",
      "   macro avg       0.36      0.50      0.42      1416\n",
      "weighted avg       0.52      0.72      0.61      1416\n",
      "\n"
     ]
    },
    {
     "name": "stderr",
     "output_type": "stream",
     "text": [
      "c:\\Users\\Akshat\\anaconda3\\envs\\cuda_env\\Lib\\site-packages\\sklearn\\metrics\\_classification.py:1565: UndefinedMetricWarning: Precision is ill-defined and being set to 0.0 in labels with no predicted samples. Use `zero_division` parameter to control this behavior.\n",
      "  _warn_prf(average, modifier, f\"{metric.capitalize()} is\", len(result))\n",
      "c:\\Users\\Akshat\\anaconda3\\envs\\cuda_env\\Lib\\site-packages\\sklearn\\metrics\\_classification.py:1565: UndefinedMetricWarning: Precision is ill-defined and being set to 0.0 in labels with no predicted samples. Use `zero_division` parameter to control this behavior.\n",
      "  _warn_prf(average, modifier, f\"{metric.capitalize()} is\", len(result))\n",
      "c:\\Users\\Akshat\\anaconda3\\envs\\cuda_env\\Lib\\site-packages\\sklearn\\metrics\\_classification.py:1565: UndefinedMetricWarning: Precision is ill-defined and being set to 0.0 in labels with no predicted samples. Use `zero_division` parameter to control this behavior.\n",
      "  _warn_prf(average, modifier, f\"{metric.capitalize()} is\", len(result))\n"
     ]
    }
   ],
   "source": [
    "tokenizer = Tokenizer(num_words=5000)\n",
    "tokenizer.fit_on_texts(train_data['message'])\n",
    "\n",
    "X_train_seq = tokenizer.texts_to_sequences(train_data['message'])\n",
    "X_test_seq = tokenizer.texts_to_sequences(test_data['message'])\n",
    "X_validation_seq = tokenizer.texts_to_sequences(validation_data['message'])\n",
    "\n",
    "max_seq_len = 200\n",
    "X_train_padded = pad_sequences(X_train_seq, maxlen=max_seq_len, padding='post')\n",
    "X_test_padded = pad_sequences(X_test_seq, maxlen=max_seq_len, padding='post')\n",
    "X_validation_padded = pad_sequences(X_validation_seq, maxlen=max_seq_len, padding='post')\n",
    "\n",
    "y_train = np.array(train_data['label'])\n",
    "y_test = np.array(test_data['label'])\n",
    "y_validation = np.array(validation_data['label'])\n",
    "\n",
    "model = Sequential([\n",
    "    Embedding(input_dim=5000, output_dim=128, input_length=max_seq_len),\n",
    "    LSTM(64, return_sequences=False),\n",
    "    Dropout(0.5),\n",
    "    Dense(64, activation='relu'),\n",
    "    Dropout(0.5),\n",
    "    Dense(1, activation='sigmoid')\n",
    "])\n",
    "\n",
    "model.compile(optimizer='adam', loss='binary_crossentropy', metrics=['accuracy'])\n",
    "\n",
    "history = model.fit(\n",
    "    X_train_padded, y_train,\n",
    "    epochs=10,\n",
    "    batch_size=32,\n",
    "    validation_data=(X_validation_padded, y_validation)\n",
    ")\n",
    "\n",
    "y_test_pred_prob = model.predict(X_test_padded)\n",
    "y_test_pred = (y_test_pred_prob > 0.5).astype(int)\n",
    "print(\"Test Accuracy:\", accuracy_score(y_test, y_test_pred))\n",
    "print(\"Test Classification Report:\\n\", classification_report(y_test, y_test_pred))\n",
    "\n",
    "y_validation_pred_prob = model.predict(X_validation_padded)\n",
    "y_validation_pred = (y_validation_pred_prob > 0.5).astype(int)\n",
    "print(\"Validation Accuracy:\", accuracy_score(y_validation, y_validation_pred))\n",
    "print(\"Validation Classification Report:\\n\", classification_report(y_validation, y_validation_pred))\n"
   ]
  },
  {
   "cell_type": "code",
   "execution_count": 5,
   "metadata": {},
   "outputs": [
    {
     "name": "stdout",
     "output_type": "stream",
     "text": [
      "Loading GloVe embeddings...\n"
     ]
    }
   ],
   "source": [
    "import gensim.downloader as api\n",
    "\n",
    "# Load GloVe and FastText embeddings outside the class\n",
    "print(\"Loading GloVe embeddings...\")\n",
    "glove_vectors = api.load('glove-wiki-gigaword-100')\n",
    "fasttext_vectors = None"
   ]
  },
  {
   "cell_type": "code",
   "execution_count": 6,
   "metadata": {},
   "outputs": [
    {
     "name": "stderr",
     "output_type": "stream",
     "text": [
      "c:\\Users\\Akshat\\anaconda3\\envs\\cuda_env\\Lib\\site-packages\\tqdm\\auto.py:21: TqdmWarning: IProgress not found. Please update jupyter and ipywidgets. See https://ipywidgets.readthedocs.io/en/stable/user_install.html\n",
      "  from .autonotebook import tqdm as notebook_tqdm\n"
     ]
    }
   ],
   "source": [
    "import pandas as pd\n",
    "from data_processor import DataProcessor\n",
    "from sklearn.linear_model import LogisticRegression\n",
    "from sklearn.metrics import accuracy_score, classification_report\n",
    "import numpy as np\n",
    "import nltk "
   ]
  },
  {
   "cell_type": "code",
   "execution_count": 7,
   "metadata": {},
   "outputs": [
    {
     "data": {
      "application/vnd.microsoft.datawrangler.viewer.v0+json": {
       "columns": [
        {
         "name": "index",
         "rawType": "int64",
         "type": "integer"
        },
        {
         "name": "message",
         "rawType": "object",
         "type": "string"
        },
        {
         "name": "receiver_annotation",
         "rawType": "object",
         "type": "unknown"
        },
        {
         "name": "sender_annotation",
         "rawType": "bool",
         "type": "boolean"
        },
        {
         "name": "score_delta",
         "rawType": "int64",
         "type": "integer"
        }
       ],
       "conversionMethod": "pd.DataFrame",
       "ref": "723d9562-931a-4153-a6fc-5fa304a26ff5",
       "rows": [
        [
         "0",
         "I see! Do you see an issue with me taking denmark now and holland later?",
         "True",
         "True",
         "0"
        ],
        [
         "1",
         "Okay let me know",
         "True",
         "True",
         "-1"
        ],
        [
         "2",
         "Rgr.  Stand ready to support whatever you decide.",
         "True",
         "True",
         "-2"
        ],
        [
         "3",
         "Sidebar- what’re you gonna do about england?",
         "NOANNOTATION",
         "True",
         "-3"
        ],
        [
         "4",
         "Yea I’m here. I’m with you on that. Not cutting my fleet and I’ll work with you. What’s the next Step? He was talking about leaving Sev to Romania which was prolly BS.",
         "True",
         "True",
         "-2"
        ]
       ],
       "shape": {
        "columns": 4,
        "rows": 5
       }
      },
      "text/html": [
       "<div>\n",
       "<style scoped>\n",
       "    .dataframe tbody tr th:only-of-type {\n",
       "        vertical-align: middle;\n",
       "    }\n",
       "\n",
       "    .dataframe tbody tr th {\n",
       "        vertical-align: top;\n",
       "    }\n",
       "\n",
       "    .dataframe thead th {\n",
       "        text-align: right;\n",
       "    }\n",
       "</style>\n",
       "<table border=\"1\" class=\"dataframe\">\n",
       "  <thead>\n",
       "    <tr style=\"text-align: right;\">\n",
       "      <th></th>\n",
       "      <th>message</th>\n",
       "      <th>receiver_annotation</th>\n",
       "      <th>sender_annotation</th>\n",
       "      <th>score_delta</th>\n",
       "    </tr>\n",
       "  </thead>\n",
       "  <tbody>\n",
       "    <tr>\n",
       "      <th>0</th>\n",
       "      <td>I see! Do you see an issue with me taking denm...</td>\n",
       "      <td>True</td>\n",
       "      <td>True</td>\n",
       "      <td>0</td>\n",
       "    </tr>\n",
       "    <tr>\n",
       "      <th>1</th>\n",
       "      <td>Okay let me know</td>\n",
       "      <td>True</td>\n",
       "      <td>True</td>\n",
       "      <td>-1</td>\n",
       "    </tr>\n",
       "    <tr>\n",
       "      <th>2</th>\n",
       "      <td>Rgr.  Stand ready to support whatever you decide.</td>\n",
       "      <td>True</td>\n",
       "      <td>True</td>\n",
       "      <td>-2</td>\n",
       "    </tr>\n",
       "    <tr>\n",
       "      <th>3</th>\n",
       "      <td>Sidebar- what’re you gonna do about england?</td>\n",
       "      <td>NOANNOTATION</td>\n",
       "      <td>True</td>\n",
       "      <td>-3</td>\n",
       "    </tr>\n",
       "    <tr>\n",
       "      <th>4</th>\n",
       "      <td>Yea I’m here. I’m with you on that. Not cuttin...</td>\n",
       "      <td>True</td>\n",
       "      <td>True</td>\n",
       "      <td>-2</td>\n",
       "    </tr>\n",
       "  </tbody>\n",
       "</table>\n",
       "</div>"
      ],
      "text/plain": [
       "                                             message receiver_annotation  \\\n",
       "0  I see! Do you see an issue with me taking denm...                True   \n",
       "1                                   Okay let me know                True   \n",
       "2  Rgr.  Stand ready to support whatever you decide.                True   \n",
       "3       Sidebar- what’re you gonna do about england?        NOANNOTATION   \n",
       "4  Yea I’m here. I’m with you on that. Not cuttin...                True   \n",
       "\n",
       "   sender_annotation  score_delta  \n",
       "0               True            0  \n",
       "1               True           -1  \n",
       "2               True           -2  \n",
       "3               True           -3  \n",
       "4               True           -2  "
      ]
     },
     "execution_count": 7,
     "metadata": {},
     "output_type": "execute_result"
    }
   ],
   "source": [
    "\n",
    "def jsonl_to_dataframe(jsonl_file):\n",
    "    data = []\n",
    "    with open(jsonl_file, 'r') as file:\n",
    "        for line in file:\n",
    "            data.append(json.loads(line))\n",
    "    return pd.DataFrame(data)\n",
    "\n",
    "train_df = jsonl_to_dataframe('data/train_sm.jsonl')\n",
    "test_df = jsonl_to_dataframe('data/test_sm.jsonl')\n",
    "validation_df = jsonl_to_dataframe('data/validation_sm.jsonl')\n",
    "train_df.head()"
   ]
  },
  {
   "cell_type": "code",
   "execution_count": 8,
   "metadata": {},
   "outputs": [
    {
     "name": "stderr",
     "output_type": "stream",
     "text": [
      "[nltk_data] Downloading package punkt_tab to\n",
      "[nltk_data]     C:\\Users\\Akshat\\AppData\\Roaming\\nltk_data...\n",
      "[nltk_data]   Package punkt_tab is already up-to-date!\n"
     ]
    },
    {
     "name": "stdout",
     "output_type": "stream",
     "text": [
      "\n",
      "Completed fit_transform with method: glove\n",
      "\n",
      "Completed fit_transform with method: glove\n",
      "\n",
      "Completed fit_transform with method: glove\n"
     ]
    }
   ],
   "source": [
    "nltk.download('punkt_tab')\n",
    "\n",
    "processor = DataProcessor(train_df, glove_vectors, fasttext_vectors)\n",
    "X_train = processor.fit_transform(vectorization_method='glove')\n",
    "y_train = np.array(train_data['label'])\n",
    "\n",
    "processor_test = DataProcessor(test_df, glove_vectors, fasttext_vectors)\n",
    "X_test = processor_test.fit_transform(vectorization_method='glove')\n",
    "y_test = np.array(test_data['label'])\n",
    "\n",
    "processor_val = DataProcessor(validation_df, glove_vectors, fasttext_vectors)\n",
    "X_validation = processor_val.fit_transform(vectorization_method='glove')\n",
    "y_validation = np.array(validation_data['label'])\n"
   ]
  },
  {
   "cell_type": "code",
   "execution_count": 9,
   "metadata": {},
   "outputs": [
    {
     "name": "stdout",
     "output_type": "stream",
     "text": [
      "(13132, 50, 100) (13132,)\n"
     ]
    }
   ],
   "source": [
    "print(X_train.shape, y_train.shape)"
   ]
  },
  {
   "cell_type": "code",
   "execution_count": null,
   "metadata": {},
   "outputs": [
    {
     "name": "stdout",
     "output_type": "stream",
     "text": [
      "Epoch 1/15\n"
     ]
    },
    {
     "name": "stderr",
     "output_type": "stream",
     "text": [
      "c:\\Users\\Akshat\\anaconda3\\envs\\cuda_env\\Lib\\site-packages\\keras\\src\\layers\\rnn\\rnn.py:200: UserWarning: Do not pass an `input_shape`/`input_dim` argument to a layer. When using Sequential models, prefer using an `Input(shape)` object as the first layer in the model instead.\n",
      "  super().__init__(**kwargs)\n"
     ]
    },
    {
     "name": "stdout",
     "output_type": "stream",
     "text": [
      "\u001b[1m411/411\u001b[0m \u001b[32m━━━━━━━━━━━━━━━━━━━━\u001b[0m\u001b[37m\u001b[0m \u001b[1m4s\u001b[0m 8ms/step - accuracy: 0.6743 - loss: 0.6446 - val_accuracy: 0.7218 - val_loss: 0.5984\n",
      "Epoch 2/15\n",
      "\u001b[1m411/411\u001b[0m \u001b[32m━━━━━━━━━━━━━━━━━━━━\u001b[0m\u001b[37m\u001b[0m \u001b[1m3s\u001b[0m 7ms/step - accuracy: 0.6809 - loss: 0.6281 - val_accuracy: 0.7218 - val_loss: 0.5946\n",
      "Epoch 3/15\n",
      "\u001b[1m411/411\u001b[0m \u001b[32m━━━━━━━━━━━━━━━━━━━━\u001b[0m\u001b[37m\u001b[0m \u001b[1m3s\u001b[0m 8ms/step - accuracy: 0.6753 - loss: 0.6330 - val_accuracy: 0.7218 - val_loss: 0.5933\n",
      "Epoch 4/15\n",
      "\u001b[1m411/411\u001b[0m \u001b[32m━━━━━━━━━━━━━━━━━━━━\u001b[0m\u001b[37m\u001b[0m \u001b[1m3s\u001b[0m 8ms/step - accuracy: 0.6814 - loss: 0.6257 - val_accuracy: 0.7218 - val_loss: 0.5992\n",
      "Epoch 5/15\n",
      "\u001b[1m411/411\u001b[0m \u001b[32m━━━━━━━━━━━━━━━━━━━━\u001b[0m\u001b[37m\u001b[0m \u001b[1m3s\u001b[0m 8ms/step - accuracy: 0.6785 - loss: 0.6294 - val_accuracy: 0.7218 - val_loss: 0.5944\n",
      "Epoch 6/15\n",
      "\u001b[1m411/411\u001b[0m \u001b[32m━━━━━━━━━━━━━━━━━━━━\u001b[0m\u001b[37m\u001b[0m \u001b[1m3s\u001b[0m 8ms/step - accuracy: 0.6815 - loss: 0.6245 - val_accuracy: 0.7210 - val_loss: 0.5955\n",
      "Epoch 7/15\n",
      "\u001b[1m411/411\u001b[0m \u001b[32m━━━━━━━━━━━━━━━━━━━━\u001b[0m\u001b[37m\u001b[0m \u001b[1m3s\u001b[0m 8ms/step - accuracy: 0.6822 - loss: 0.6240 - val_accuracy: 0.7210 - val_loss: 0.5968\n",
      "Epoch 8/15\n",
      "\u001b[1m411/411\u001b[0m \u001b[32m━━━━━━━━━━━━━━━━━━━━\u001b[0m\u001b[37m\u001b[0m \u001b[1m3s\u001b[0m 8ms/step - accuracy: 0.6807 - loss: 0.6251 - val_accuracy: 0.7203 - val_loss: 0.5984\n",
      "Epoch 9/15\n",
      "\u001b[1m411/411\u001b[0m \u001b[32m━━━━━━━━━━━━━━━━━━━━\u001b[0m\u001b[37m\u001b[0m \u001b[1m4s\u001b[0m 9ms/step - accuracy: 0.6861 - loss: 0.6207 - val_accuracy: 0.7196 - val_loss: 0.5924\n",
      "Epoch 10/15\n",
      "\u001b[1m411/411\u001b[0m \u001b[32m━━━━━━━━━━━━━━━━━━━━\u001b[0m\u001b[37m\u001b[0m \u001b[1m3s\u001b[0m 8ms/step - accuracy: 0.6858 - loss: 0.6194 - val_accuracy: 0.7203 - val_loss: 0.5990\n",
      "Epoch 11/15\n",
      "\u001b[1m411/411\u001b[0m \u001b[32m━━━━━━━━━━━━━━━━━━━━\u001b[0m\u001b[37m\u001b[0m \u001b[1m4s\u001b[0m 9ms/step - accuracy: 0.6902 - loss: 0.6119 - val_accuracy: 0.7203 - val_loss: 0.6003\n",
      "Epoch 12/15\n",
      "\u001b[1m411/411\u001b[0m \u001b[32m━━━━━━━━━━━━━━━━━━━━\u001b[0m\u001b[37m\u001b[0m \u001b[1m4s\u001b[0m 9ms/step - accuracy: 0.6924 - loss: 0.6120 - val_accuracy: 0.7210 - val_loss: 0.5940\n",
      "Epoch 13/15\n",
      "\u001b[1m411/411\u001b[0m \u001b[32m━━━━━━━━━━━━━━━━━━━━\u001b[0m\u001b[37m\u001b[0m \u001b[1m4s\u001b[0m 9ms/step - accuracy: 0.6819 - loss: 0.6164 - val_accuracy: 0.7196 - val_loss: 0.5972\n",
      "Epoch 14/15\n",
      "\u001b[1m411/411\u001b[0m \u001b[32m━━━━━━━━━━━━━━━━━━━━\u001b[0m\u001b[37m\u001b[0m \u001b[1m4s\u001b[0m 9ms/step - accuracy: 0.6876 - loss: 0.6125 - val_accuracy: 0.7210 - val_loss: 0.5968\n",
      "Epoch 15/15\n",
      "\u001b[1m411/411\u001b[0m \u001b[32m━━━━━━━━━━━━━━━━━━━━\u001b[0m\u001b[37m\u001b[0m \u001b[1m4s\u001b[0m 9ms/step - accuracy: 0.6859 - loss: 0.6123 - val_accuracy: 0.7196 - val_loss: 0.5967\n",
      "\u001b[1m86/86\u001b[0m \u001b[32m━━━━━━━━━━━━━━━━━━━━\u001b[0m\u001b[37m\u001b[0m \u001b[1m0s\u001b[0m 4ms/step - accuracy: 0.6971 - loss: 0.6183\n",
      "Test Accuracy: 0.6909887194633484\n"
     ]
    }
   ],
   "source": [
    "model = Sequential([\n",
    "    LSTM(64, input_shape=(50, 100), return_sequences=False),\n",
    "    Dropout(0.5),\n",
    "    Dense(64, activation='relu'),\n",
    "    Dropout(0.5),\n",
    "    Dense(1, activation='sigmoid')\n",
    "])\n",
    "\n",
    "model.compile(optimizer='adam', loss='binary_crossentropy', metrics=['accuracy'])\n",
    "\n",
    "history = model.fit(\n",
    "    X_train, y_train,\n",
    "    epochs=15,\n",
    "    batch_size=32,\n",
    "    validation_data=(X_validation, y_validation)\n",
    ")\n",
    "\n",
    "test_loss, test_accuracy = model.evaluate(X_test, y_test)\n",
    "print(\"Test Accuracy:\", test_accuracy)\n"
   ]
  },
  {
   "cell_type": "code",
   "execution_count": 11,
   "metadata": {},
   "outputs": [
    {
     "name": "stdout",
     "output_type": "stream",
     "text": [
      "\u001b[1m86/86\u001b[0m \u001b[32m━━━━━━━━━━━━━━━━━━━━\u001b[0m\u001b[37m\u001b[0m \u001b[1m0s\u001b[0m 4ms/step\n",
      "Test Accuracy: 0.6909886902590295\n",
      "Test Classification Report:\n",
      "               precision    recall  f1-score   support\n",
      "\n",
      "           0       0.69      0.99      0.82      1901\n",
      "           1       0.29      0.01      0.01       840\n",
      "\n",
      "    accuracy                           0.69      2741\n",
      "   macro avg       0.49      0.50      0.41      2741\n",
      "weighted avg       0.57      0.69      0.57      2741\n",
      "\n",
      "\u001b[1m45/45\u001b[0m \u001b[32m━━━━━━━━━━━━━━━━━━━━\u001b[0m\u001b[37m\u001b[0m \u001b[1m0s\u001b[0m 3ms/step\n",
      "Validation Accuracy: 0.719632768361582\n",
      "Validation Classification Report:\n",
      "               precision    recall  f1-score   support\n",
      "\n",
      "           0       0.72      1.00      0.84      1022\n",
      "           1       0.20      0.00      0.01       394\n",
      "\n",
      "    accuracy                           0.72      1416\n",
      "   macro avg       0.46      0.50      0.42      1416\n",
      "weighted avg       0.58      0.72      0.61      1416\n",
      "\n"
     ]
    }
   ],
   "source": [
    "y_test_pred_prob = model.predict(X_test)\n",
    "y_test_pred = (y_test_pred_prob > 0.5).astype(int)\n",
    "print(\"Test Accuracy:\", accuracy_score(y_test, y_test_pred))\n",
    "print(\"Test Classification Report:\\n\", classification_report(y_test, y_test_pred))\n",
    "\n",
    "y_validation_pred_prob = model.predict(X_validation)\n",
    "y_validation_pred = (y_validation_pred_prob > 0.5).astype(int)\n",
    "print(\"Validation Accuracy:\", accuracy_score(y_validation, y_validation_pred))\n",
    "print(\"Validation Classification Report:\\n\", classification_report(y_validation, y_validation_pred))"
   ]
  },
  {
   "cell_type": "code",
   "execution_count": null,
   "metadata": {},
   "outputs": [
    {
     "name": "stdout",
     "output_type": "stream",
     "text": [
      "Epoch 1/25\n",
      "\u001b[1m411/411\u001b[0m \u001b[32m━━━━━━━━━━━━━━━━━━━━\u001b[0m\u001b[37m\u001b[0m \u001b[1m2s\u001b[0m 4ms/step - accuracy: 0.6671 - loss: 0.6416 - val_accuracy: 0.7218 - val_loss: 0.5945\n",
      "Epoch 2/25\n",
      "\u001b[1m411/411\u001b[0m \u001b[32m━━━━━━━━━━━━━━━━━━━━\u001b[0m\u001b[37m\u001b[0m \u001b[1m2s\u001b[0m 4ms/step - accuracy: 0.6892 - loss: 0.6253 - val_accuracy: 0.7218 - val_loss: 0.5991\n",
      "Epoch 3/25\n",
      "\u001b[1m411/411\u001b[0m \u001b[32m━━━━━━━━━━━━━━━━━━━━\u001b[0m\u001b[37m\u001b[0m \u001b[1m1s\u001b[0m 4ms/step - accuracy: 0.6795 - loss: 0.6328 - val_accuracy: 0.7218 - val_loss: 0.5990\n",
      "Epoch 4/25\n",
      "\u001b[1m411/411\u001b[0m \u001b[32m━━━━━━━━━━━━━━━━━━━━\u001b[0m\u001b[37m\u001b[0m \u001b[1m2s\u001b[0m 4ms/step - accuracy: 0.6865 - loss: 0.6247 - val_accuracy: 0.7218 - val_loss: 0.6013\n",
      "Epoch 5/25\n",
      "\u001b[1m411/411\u001b[0m \u001b[32m━━━━━━━━━━━━━━━━━━━━\u001b[0m\u001b[37m\u001b[0m \u001b[1m2s\u001b[0m 4ms/step - accuracy: 0.6744 - loss: 0.6324 - val_accuracy: 0.7218 - val_loss: 0.5976\n",
      "Epoch 6/25\n",
      "\u001b[1m411/411\u001b[0m \u001b[32m━━━━━━━━━━━━━━━━━━━━\u001b[0m\u001b[37m\u001b[0m \u001b[1m2s\u001b[0m 4ms/step - accuracy: 0.6806 - loss: 0.6274 - val_accuracy: 0.7218 - val_loss: 0.6000\n",
      "Epoch 7/25\n",
      "\u001b[1m411/411\u001b[0m \u001b[32m━━━━━━━━━━━━━━━━━━━━\u001b[0m\u001b[37m\u001b[0m \u001b[1m2s\u001b[0m 4ms/step - accuracy: 0.6752 - loss: 0.6317 - val_accuracy: 0.7218 - val_loss: 0.6027\n",
      "Epoch 8/25\n",
      "\u001b[1m411/411\u001b[0m \u001b[32m━━━━━━━━━━━━━━━━━━━━\u001b[0m\u001b[37m\u001b[0m \u001b[1m2s\u001b[0m 4ms/step - accuracy: 0.6795 - loss: 0.6313 - val_accuracy: 0.7218 - val_loss: 0.5905\n",
      "Epoch 9/25\n",
      "\u001b[1m411/411\u001b[0m \u001b[32m━━━━━━━━━━━━━━━━━━━━\u001b[0m\u001b[37m\u001b[0m \u001b[1m2s\u001b[0m 4ms/step - accuracy: 0.6875 - loss: 0.6218 - val_accuracy: 0.7218 - val_loss: 0.6230\n",
      "Epoch 10/25\n",
      "\u001b[1m411/411\u001b[0m \u001b[32m━━━━━━━━━━━━━━━━━━━━\u001b[0m\u001b[37m\u001b[0m \u001b[1m2s\u001b[0m 4ms/step - accuracy: 0.6773 - loss: 0.6311 - val_accuracy: 0.7218 - val_loss: 0.5954\n",
      "Epoch 11/25\n",
      "\u001b[1m411/411\u001b[0m \u001b[32m━━━━━━━━━━━━━━━━━━━━\u001b[0m\u001b[37m\u001b[0m \u001b[1m1s\u001b[0m 4ms/step - accuracy: 0.6812 - loss: 0.6267 - val_accuracy: 0.7218 - val_loss: 0.5974\n",
      "Epoch 12/25\n",
      "\u001b[1m411/411\u001b[0m \u001b[32m━━━━━━━━━━━━━━━━━━━━\u001b[0m\u001b[37m\u001b[0m \u001b[1m2s\u001b[0m 4ms/step - accuracy: 0.6816 - loss: 0.6267 - val_accuracy: 0.7218 - val_loss: 0.5991\n",
      "Epoch 13/25\n",
      "\u001b[1m411/411\u001b[0m \u001b[32m━━━━━━━━━━━━━━━━━━━━\u001b[0m\u001b[37m\u001b[0m \u001b[1m2s\u001b[0m 4ms/step - accuracy: 0.6813 - loss: 0.6258 - val_accuracy: 0.7218 - val_loss: 0.5957\n",
      "Epoch 14/25\n",
      "\u001b[1m411/411\u001b[0m \u001b[32m━━━━━━━━━━━━━━━━━━━━\u001b[0m\u001b[37m\u001b[0m \u001b[1m2s\u001b[0m 4ms/step - accuracy: 0.6774 - loss: 0.6288 - val_accuracy: 0.7218 - val_loss: 0.5953\n",
      "Epoch 15/25\n",
      "\u001b[1m411/411\u001b[0m \u001b[32m━━━━━━━━━━━━━━━━━━━━\u001b[0m\u001b[37m\u001b[0m \u001b[1m2s\u001b[0m 4ms/step - accuracy: 0.6843 - loss: 0.6253 - val_accuracy: 0.7218 - val_loss: 0.5952\n",
      "Epoch 16/25\n",
      "\u001b[1m411/411\u001b[0m \u001b[32m━━━━━━━━━━━━━━━━━━━━\u001b[0m\u001b[37m\u001b[0m \u001b[1m2s\u001b[0m 4ms/step - accuracy: 0.6846 - loss: 0.6243 - val_accuracy: 0.7218 - val_loss: 0.5967\n",
      "Epoch 17/25\n",
      "\u001b[1m411/411\u001b[0m \u001b[32m━━━━━━━━━━━━━━━━━━━━\u001b[0m\u001b[37m\u001b[0m \u001b[1m1s\u001b[0m 4ms/step - accuracy: 0.6787 - loss: 0.6282 - val_accuracy: 0.7218 - val_loss: 0.5949\n",
      "Epoch 18/25\n",
      "\u001b[1m411/411\u001b[0m \u001b[32m━━━━━━━━━━━━━━━━━━━━\u001b[0m\u001b[37m\u001b[0m \u001b[1m2s\u001b[0m 4ms/step - accuracy: 0.6742 - loss: 0.6316 - val_accuracy: 0.7218 - val_loss: 0.5959\n",
      "Epoch 19/25\n",
      "\u001b[1m411/411\u001b[0m \u001b[32m━━━━━━━━━━━━━━━━━━━━\u001b[0m\u001b[37m\u001b[0m \u001b[1m1s\u001b[0m 3ms/step - accuracy: 0.6810 - loss: 0.6262 - val_accuracy: 0.7218 - val_loss: 0.5949\n",
      "Epoch 20/25\n",
      "\u001b[1m411/411\u001b[0m \u001b[32m━━━━━━━━━━━━━━━━━━━━\u001b[0m\u001b[37m\u001b[0m \u001b[1m2s\u001b[0m 4ms/step - accuracy: 0.6796 - loss: 0.6263 - val_accuracy: 0.7218 - val_loss: 0.5948\n",
      "Epoch 21/25\n",
      "\u001b[1m411/411\u001b[0m \u001b[32m━━━━━━━━━━━━━━━━━━━━\u001b[0m\u001b[37m\u001b[0m \u001b[1m1s\u001b[0m 3ms/step - accuracy: 0.6852 - loss: 0.6232 - val_accuracy: 0.7218 - val_loss: 0.5945\n",
      "Epoch 22/25\n",
      "\u001b[1m411/411\u001b[0m \u001b[32m━━━━━━━━━━━━━━━━━━━━\u001b[0m\u001b[37m\u001b[0m \u001b[1m2s\u001b[0m 4ms/step - accuracy: 0.6790 - loss: 0.6282 - val_accuracy: 0.7218 - val_loss: 0.5957\n",
      "Epoch 23/25\n",
      "\u001b[1m411/411\u001b[0m \u001b[32m━━━━━━━━━━━━━━━━━━━━\u001b[0m\u001b[37m\u001b[0m \u001b[1m1s\u001b[0m 4ms/step - accuracy: 0.6870 - loss: 0.6213 - val_accuracy: 0.7218 - val_loss: 0.5943\n",
      "Epoch 24/25\n",
      "\u001b[1m411/411\u001b[0m \u001b[32m━━━━━━━━━━━━━━━━━━━━\u001b[0m\u001b[37m\u001b[0m \u001b[1m1s\u001b[0m 3ms/step - accuracy: 0.6836 - loss: 0.6231 - val_accuracy: 0.7218 - val_loss: 0.5941\n",
      "Epoch 25/25\n",
      "\u001b[1m411/411\u001b[0m \u001b[32m━━━━━━━━━━━━━━━━━━━━\u001b[0m\u001b[37m\u001b[0m \u001b[1m1s\u001b[0m 3ms/step - accuracy: 0.6832 - loss: 0.6232 - val_accuracy: 0.7218 - val_loss: 0.5944\n",
      "\u001b[1m86/86\u001b[0m \u001b[32m━━━━━━━━━━━━━━━━━━━━\u001b[0m\u001b[37m\u001b[0m \u001b[1m0s\u001b[0m 2ms/step - accuracy: 0.6998 - loss: 0.6123\n",
      "Test Accuracy: 0.6924480199813843\n"
     ]
    }
   ],
   "source": [
    "from tensorflow.keras.models import Sequential\n",
    "from tensorflow.keras.layers import SimpleRNN, Dense, Dropout, Embedding\n",
    "\n",
    "model = Sequential([\n",
    "    SimpleRNN(64, return_sequences=False, activation='tanh', input_shape=(50, 100)),\n",
    "    Dense(32, activation='relu'),\n",
    "    Dropout(0.5),\n",
    "    Dense(1, activation='sigmoid')\n",
    "])\n",
    "\n",
    "model.compile(optimizer='adam', loss='binary_crossentropy', metrics=['accuracy'])\n",
    "\n",
    "history = model.fit(\n",
    "    X_train, y_train,\n",
    "    epochs=50,\n",
    "    batch_size=32,\n",
    "    validation_data = (X_validation, y_validation)  \n",
    ")\n",
    "\n",
    "test_loss, test_accuracy = model.evaluate(X_test, y_test)\n",
    "print(\"Test Accuracy:\", test_accuracy)\n"
   ]
  }
 ],
 "metadata": {
  "kernelspec": {
   "display_name": "cuda_env",
   "language": "python",
   "name": "python3"
  },
  "language_info": {
   "codemirror_mode": {
    "name": "ipython",
    "version": 3
   },
   "file_extension": ".py",
   "mimetype": "text/x-python",
   "name": "python",
   "nbconvert_exporter": "python",
   "pygments_lexer": "ipython3",
   "version": "3.12.8"
  }
 },
 "nbformat": 4,
 "nbformat_minor": 2
}
